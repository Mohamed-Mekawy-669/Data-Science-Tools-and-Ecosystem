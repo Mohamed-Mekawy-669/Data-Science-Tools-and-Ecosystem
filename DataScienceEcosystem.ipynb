{
 "cells": [
  {
   "cell_type": "markdown",
   "id": "8c4b9fda-334c-479c-aa25-dd5ee6d09108",
   "metadata": {
    "tags": []
   },
   "source": [
    "# Data Science Tools and Ecosystem "
   ]
  },
  {
   "cell_type": "markdown",
   "id": "1c686565-5a24-4318-bd11-69c3f3fc7b2e",
   "metadata": {},
   "source": [
    "In this notebook, Data Science Tools and Ecosystem are summarized."
   ]
  },
  {
   "cell_type": "markdown",
   "id": "f6d3c9e5-b2c5-4c06-8f43-e6dae0ddaf38",
   "metadata": {
    "tags": []
   },
   "source": [
    "**Objectives:**"
   ]
  },
  {
   "cell_type": "markdown",
   "id": "e5b5dedb-e9fe-4e47-a079-e4e5400daca3",
   "metadata": {},
   "source": [
    "+ Some of the popular languages that Data Scientists use are\n",
    "+ Some of the commonly used libraries used by Data Scientists include\n",
    "+ Data Science Tools "
   ]
  },
  {
   "cell_type": "markdown",
   "id": "70f17818-accf-4ab6-806c-f1c81544ba96",
   "metadata": {},
   "source": [
    "Some of the popular languages that Data Scientists use are:\n",
    "<ol>\n",
    "   <li>R\n",
    "    <li>python\n",
    "    <li>scala\n",
    "    <ol>"
   ]
  },
  {
   "cell_type": "markdown",
   "id": "20283767-6975-4811-b020-5731e4e13c04",
   "metadata": {},
   "source": [
    "Some of the commonly used libraries used by Data Scientists include:\n",
    "<ol>\n",
    "    <li>Pandas\n",
    "        <li>Numpy\n",
    "            <li>Matplotlib\n",
    "    <ol>\n"
   ]
  },
  {
   "cell_type": "markdown",
   "id": "62742a2a-e785-4c90-9743-655d8878039c",
   "metadata": {
    "jupyter": {
     "outputs_hidden": true
    },
    "tags": []
   },
   "source": [
    "| Data Science Tools |\n",
    "| ------------------ |\n",
    "|Jupyter|\n",
    "|Apache Zeppelin|\n",
    "|RStudio|\n"
   ]
  },
  {
   "cell_type": "markdown",
   "id": "dc3917a8-eb46-49c3-a10d-010cbc06a7ed",
   "metadata": {
    "tags": []
   },
   "source": [
    "### Below are a few examples of evaluating arithmetic expressions in Python.\n"
   ]
  },
  {
   "cell_type": "code",
   "execution_count": 2,
   "id": "e4f75f5f-8f36-4b47-8a30-30c9c72019d4",
   "metadata": {
    "tags": []
   },
   "outputs": [
    {
     "data": {
      "text/plain": [
       "17"
      ]
     },
     "execution_count": 2,
     "metadata": {},
     "output_type": "execute_result"
    }
   ],
   "source": [
    "#This a simple arithmetic expression to mutiply then add integers\n",
    "\n",
    "(3*4)+5"
   ]
  },
  {
   "cell_type": "code",
   "execution_count": 3,
   "id": "7ffac419-7c4c-4126-afb3-7fb7564d2fea",
   "metadata": {
    "tags": []
   },
   "outputs": [
    {
     "data": {
      "text/plain": [
       "3.3333333333333335"
      ]
     },
     "execution_count": 3,
     "metadata": {},
     "output_type": "execute_result"
    }
   ],
   "source": [
    "# This will convert 200 minutes to hours by diving by 60\n",
    "200/60"
   ]
  },
  {
   "cell_type": "markdown",
   "id": "ef93b831-316d-4928-a43e-bda76a213d85",
   "metadata": {},
   "source": [
    "## Author\n",
    "Mohamed Mekawy"
   ]
  }
 ],
 "metadata": {
  "kernelspec": {
   "display_name": "Python 3 (ipykernel)",
   "language": "python",
   "name": "python3"
  },
  "language_info": {
   "codemirror_mode": {
    "name": "ipython",
    "version": 3
   },
   "file_extension": ".py",
   "mimetype": "text/x-python",
   "name": "python",
   "nbconvert_exporter": "python",
   "pygments_lexer": "ipython3",
   "version": "3.11.5"
  }
 },
 "nbformat": 4,
 "nbformat_minor": 5
}
